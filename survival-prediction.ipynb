{
 "cells": [
  {
   "cell_type": "code",
   "execution_count": 1,
   "metadata": {
    "_cell_guid": "79c7e3d0-c299-4dcb-8224-4455121ee9b0",
    "_uuid": "d629ff2d2480ee46fbb7e2d37f6b5fab8052498a"
   },
   "outputs": [],
   "source": [
    "#loading all the required packages\n",
    "import pandas as pd\n",
    "import numpy as np\n",
    "import matplotlib.pyplot as plt\n",
    "import seaborn as sns"
   ]
  },
  {
   "cell_type": "code",
   "execution_count": 2,
   "metadata": {
    "_uuid": "b4cb442278996adf188dfa76f114522041d3d564"
   },
   "outputs": [
    {
     "name": "stdout",
     "output_type": "stream",
     "text": [
      "Train : (891, 12)\n",
      "Test : (418, 11)\n"
     ]
    }
   ],
   "source": [
    "#loading the train and test dataset\n",
    "train = pd.read_csv('../input/train.csv')\n",
    "test = pd.read_csv('../input/test.csv')\n",
    "train_raw = train.copy()\n",
    "test_raw = test.copy()\n",
    "print(\"Train : {}\".format(train.shape))\n",
    "print(\"Test : {}\".format(test.shape))"
   ]
  },
  {
   "cell_type": "code",
   "execution_count": 3,
   "metadata": {
    "_uuid": "b77d5e89b26d63ce2f28c75a6ce3d9a745016722"
   },
   "outputs": [
    {
     "data": {
      "text/html": [
       "<div>\n",
       "<style scoped>\n",
       "    .dataframe tbody tr th:only-of-type {\n",
       "        vertical-align: middle;\n",
       "    }\n",
       "\n",
       "    .dataframe tbody tr th {\n",
       "        vertical-align: top;\n",
       "    }\n",
       "\n",
       "    .dataframe thead th {\n",
       "        text-align: right;\n",
       "    }\n",
       "</style>\n",
       "<table border=\"1\" class=\"dataframe\">\n",
       "  <thead>\n",
       "    <tr style=\"text-align: right;\">\n",
       "      <th></th>\n",
       "      <th>PassengerId</th>\n",
       "      <th>Survived</th>\n",
       "      <th>Pclass</th>\n",
       "      <th>Name</th>\n",
       "      <th>Sex</th>\n",
       "      <th>Age</th>\n",
       "      <th>SibSp</th>\n",
       "      <th>Parch</th>\n",
       "      <th>Ticket</th>\n",
       "      <th>Fare</th>\n",
       "      <th>Cabin</th>\n",
       "      <th>Embarked</th>\n",
       "    </tr>\n",
       "  </thead>\n",
       "  <tbody>\n",
       "    <tr>\n",
       "      <th>0</th>\n",
       "      <td>1</td>\n",
       "      <td>0</td>\n",
       "      <td>3</td>\n",
       "      <td>Braund, Mr. Owen Harris</td>\n",
       "      <td>male</td>\n",
       "      <td>22.0</td>\n",
       "      <td>1</td>\n",
       "      <td>0</td>\n",
       "      <td>A/5 21171</td>\n",
       "      <td>7.2500</td>\n",
       "      <td>NaN</td>\n",
       "      <td>S</td>\n",
       "    </tr>\n",
       "    <tr>\n",
       "      <th>1</th>\n",
       "      <td>2</td>\n",
       "      <td>1</td>\n",
       "      <td>1</td>\n",
       "      <td>Cumings, Mrs. John Bradley (Florence Briggs Th...</td>\n",
       "      <td>female</td>\n",
       "      <td>38.0</td>\n",
       "      <td>1</td>\n",
       "      <td>0</td>\n",
       "      <td>PC 17599</td>\n",
       "      <td>71.2833</td>\n",
       "      <td>C85</td>\n",
       "      <td>C</td>\n",
       "    </tr>\n",
       "    <tr>\n",
       "      <th>2</th>\n",
       "      <td>3</td>\n",
       "      <td>1</td>\n",
       "      <td>3</td>\n",
       "      <td>Heikkinen, Miss. Laina</td>\n",
       "      <td>female</td>\n",
       "      <td>26.0</td>\n",
       "      <td>0</td>\n",
       "      <td>0</td>\n",
       "      <td>STON/O2. 3101282</td>\n",
       "      <td>7.9250</td>\n",
       "      <td>NaN</td>\n",
       "      <td>S</td>\n",
       "    </tr>\n",
       "    <tr>\n",
       "      <th>3</th>\n",
       "      <td>4</td>\n",
       "      <td>1</td>\n",
       "      <td>1</td>\n",
       "      <td>Futrelle, Mrs. Jacques Heath (Lily May Peel)</td>\n",
       "      <td>female</td>\n",
       "      <td>35.0</td>\n",
       "      <td>1</td>\n",
       "      <td>0</td>\n",
       "      <td>113803</td>\n",
       "      <td>53.1000</td>\n",
       "      <td>C123</td>\n",
       "      <td>S</td>\n",
       "    </tr>\n",
       "    <tr>\n",
       "      <th>4</th>\n",
       "      <td>5</td>\n",
       "      <td>0</td>\n",
       "      <td>3</td>\n",
       "      <td>Allen, Mr. William Henry</td>\n",
       "      <td>male</td>\n",
       "      <td>35.0</td>\n",
       "      <td>0</td>\n",
       "      <td>0</td>\n",
       "      <td>373450</td>\n",
       "      <td>8.0500</td>\n",
       "      <td>NaN</td>\n",
       "      <td>S</td>\n",
       "    </tr>\n",
       "  </tbody>\n",
       "</table>\n",
       "</div>"
      ],
      "text/plain": [
       "   PassengerId  Survived  Pclass    ...        Fare Cabin  Embarked\n",
       "0            1         0       3    ...      7.2500   NaN         S\n",
       "1            2         1       1    ...     71.2833   C85         C\n",
       "2            3         1       3    ...      7.9250   NaN         S\n",
       "3            4         1       1    ...     53.1000  C123         S\n",
       "4            5         0       3    ...      8.0500   NaN         S\n",
       "\n",
       "[5 rows x 12 columns]"
      ]
     },
     "execution_count": 3,
     "metadata": {},
     "output_type": "execute_result"
    }
   ],
   "source": [
    "train.head()"
   ]
  },
  {
   "cell_type": "code",
   "execution_count": 4,
   "metadata": {
    "_uuid": "b106c847c356ad865f2964c3585633b7394c5f67"
   },
   "outputs": [
    {
     "data": {
      "text/html": [
       "<div>\n",
       "<style scoped>\n",
       "    .dataframe tbody tr th:only-of-type {\n",
       "        vertical-align: middle;\n",
       "    }\n",
       "\n",
       "    .dataframe tbody tr th {\n",
       "        vertical-align: top;\n",
       "    }\n",
       "\n",
       "    .dataframe thead th {\n",
       "        text-align: right;\n",
       "    }\n",
       "</style>\n",
       "<table border=\"1\" class=\"dataframe\">\n",
       "  <thead>\n",
       "    <tr style=\"text-align: right;\">\n",
       "      <th></th>\n",
       "      <th>PassengerId</th>\n",
       "      <th>Pclass</th>\n",
       "      <th>Name</th>\n",
       "      <th>Sex</th>\n",
       "      <th>Age</th>\n",
       "      <th>SibSp</th>\n",
       "      <th>Parch</th>\n",
       "      <th>Ticket</th>\n",
       "      <th>Fare</th>\n",
       "      <th>Cabin</th>\n",
       "      <th>Embarked</th>\n",
       "    </tr>\n",
       "  </thead>\n",
       "  <tbody>\n",
       "    <tr>\n",
       "      <th>0</th>\n",
       "      <td>892</td>\n",
       "      <td>3</td>\n",
       "      <td>Kelly, Mr. James</td>\n",
       "      <td>male</td>\n",
       "      <td>34.5</td>\n",
       "      <td>0</td>\n",
       "      <td>0</td>\n",
       "      <td>330911</td>\n",
       "      <td>7.8292</td>\n",
       "      <td>NaN</td>\n",
       "      <td>Q</td>\n",
       "    </tr>\n",
       "    <tr>\n",
       "      <th>1</th>\n",
       "      <td>893</td>\n",
       "      <td>3</td>\n",
       "      <td>Wilkes, Mrs. James (Ellen Needs)</td>\n",
       "      <td>female</td>\n",
       "      <td>47.0</td>\n",
       "      <td>1</td>\n",
       "      <td>0</td>\n",
       "      <td>363272</td>\n",
       "      <td>7.0000</td>\n",
       "      <td>NaN</td>\n",
       "      <td>S</td>\n",
       "    </tr>\n",
       "    <tr>\n",
       "      <th>2</th>\n",
       "      <td>894</td>\n",
       "      <td>2</td>\n",
       "      <td>Myles, Mr. Thomas Francis</td>\n",
       "      <td>male</td>\n",
       "      <td>62.0</td>\n",
       "      <td>0</td>\n",
       "      <td>0</td>\n",
       "      <td>240276</td>\n",
       "      <td>9.6875</td>\n",
       "      <td>NaN</td>\n",
       "      <td>Q</td>\n",
       "    </tr>\n",
       "    <tr>\n",
       "      <th>3</th>\n",
       "      <td>895</td>\n",
       "      <td>3</td>\n",
       "      <td>Wirz, Mr. Albert</td>\n",
       "      <td>male</td>\n",
       "      <td>27.0</td>\n",
       "      <td>0</td>\n",
       "      <td>0</td>\n",
       "      <td>315154</td>\n",
       "      <td>8.6625</td>\n",
       "      <td>NaN</td>\n",
       "      <td>S</td>\n",
       "    </tr>\n",
       "    <tr>\n",
       "      <th>4</th>\n",
       "      <td>896</td>\n",
       "      <td>3</td>\n",
       "      <td>Hirvonen, Mrs. Alexander (Helga E Lindqvist)</td>\n",
       "      <td>female</td>\n",
       "      <td>22.0</td>\n",
       "      <td>1</td>\n",
       "      <td>1</td>\n",
       "      <td>3101298</td>\n",
       "      <td>12.2875</td>\n",
       "      <td>NaN</td>\n",
       "      <td>S</td>\n",
       "    </tr>\n",
       "  </tbody>\n",
       "</table>\n",
       "</div>"
      ],
      "text/plain": [
       "   PassengerId  Pclass   ...    Cabin Embarked\n",
       "0          892       3   ...      NaN        Q\n",
       "1          893       3   ...      NaN        S\n",
       "2          894       2   ...      NaN        Q\n",
       "3          895       3   ...      NaN        S\n",
       "4          896       3   ...      NaN        S\n",
       "\n",
       "[5 rows x 11 columns]"
      ]
     },
     "execution_count": 4,
     "metadata": {},
     "output_type": "execute_result"
    }
   ],
   "source": [
    "test.head()"
   ]
  },
  {
   "cell_type": "code",
   "execution_count": 5,
   "metadata": {
    "_uuid": "4379f9f765209f880c979443097e0089dbe39451"
   },
   "outputs": [
    {
     "name": "stdout",
     "output_type": "stream",
     "text": [
      "<class 'pandas.core.frame.DataFrame'>\n",
      "RangeIndex: 891 entries, 0 to 890\n",
      "Data columns (total 12 columns):\n",
      "PassengerId    891 non-null int64\n",
      "Survived       891 non-null int64\n",
      "Pclass         891 non-null int64\n",
      "Name           891 non-null object\n",
      "Sex            891 non-null object\n",
      "Age            714 non-null float64\n",
      "SibSp          891 non-null int64\n",
      "Parch          891 non-null int64\n",
      "Ticket         891 non-null object\n",
      "Fare           891 non-null float64\n",
      "Cabin          204 non-null object\n",
      "Embarked       889 non-null object\n",
      "dtypes: float64(2), int64(5), object(5)\n",
      "memory usage: 83.6+ KB\n"
     ]
    }
   ],
   "source": [
    "#some useful information about the data\n",
    "train.info()"
   ]
  },
  {
   "cell_type": "markdown",
   "metadata": {
    "_uuid": "882f4ccee4c38d87ade6358330d23253df0eabd7"
   },
   "source": [
    "* There are 7 features with numeric data and 5 features with categorical data.\n",
    "* There are missing values in 'Age','Cabin' and 'Embarked' columns.\n"
   ]
  },
  {
   "cell_type": "code",
   "execution_count": 6,
   "metadata": {
    "_uuid": "67e547dde22bd287515587e9d039891ff2655315"
   },
   "outputs": [
    {
     "name": "stdout",
     "output_type": "stream",
     "text": [
      "<class 'pandas.core.frame.DataFrame'>\n",
      "RangeIndex: 418 entries, 0 to 417\n",
      "Data columns (total 11 columns):\n",
      "PassengerId    418 non-null int64\n",
      "Pclass         418 non-null int64\n",
      "Name           418 non-null object\n",
      "Sex            418 non-null object\n",
      "Age            332 non-null float64\n",
      "SibSp          418 non-null int64\n",
      "Parch          418 non-null int64\n",
      "Ticket         418 non-null object\n",
      "Fare           417 non-null float64\n",
      "Cabin          91 non-null object\n",
      "Embarked       418 non-null object\n",
      "dtypes: float64(2), int64(4), object(5)\n",
      "memory usage: 36.0+ KB\n"
     ]
    }
   ],
   "source": [
    "test.info()"
   ]
  },
  {
   "cell_type": "markdown",
   "metadata": {
    "_uuid": "612c2a7c49838addfabac438da36378d8edb805e"
   },
   "source": [
    "* There are 6 features with numeric data (No survival column) and 5 features with categorical data.\n",
    "* There are missing values in 'Age','Cabin' and 'Fare' columns."
   ]
  },
  {
   "cell_type": "markdown",
   "metadata": {
    "_uuid": "e87ad3d208a24909049f4130a690a6ea31e76bdf"
   },
   "source": [
    "**PassengerId**"
   ]
  },
  {
   "cell_type": "code",
   "execution_count": 7,
   "metadata": {
    "_uuid": "653e01437188c954b8d95ad3604e29345785e494"
   },
   "outputs": [],
   "source": [
    "#dropping PassengerId columns from both train and test datasets\n",
    "train.drop(columns = ['PassengerId'],inplace = True)\n",
    "test.drop(columns = ['PassengerId'],inplace = True)"
   ]
  },
  {
   "cell_type": "markdown",
   "metadata": {
    "_uuid": "69dfd330d4ce196c266f97cfdc1ad418a582c6b5"
   },
   "source": [
    "**Pclass**\n",
    "\n",
    "These are not really numbers but they represent the Lower, Middle and Upper class. Hence converting this feature to object type"
   ]
  },
  {
   "cell_type": "code",
   "execution_count": 8,
   "metadata": {
    "_uuid": "6d9a0f8eb771620f30546c8e9cea7f0810858fe4"
   },
   "outputs": [],
   "source": [
    "train['Pclass'] = train['Pclass'].astype(str)\n",
    "test['Pclass'] = test['Pclass'].astype(str)"
   ]
  },
  {
   "cell_type": "markdown",
   "metadata": {
    "_uuid": "15a8102c1d965298ff27bdec3bc01458cf43525f"
   },
   "source": [
    "**Name** \n",
    "\n",
    "The name of the passenger obviously won't help in predicting the survival but we can extract some features that do help in predicting the survival such as the *Title*\n",
    "\n",
    "Hence extracting the Title and dropping the Name column"
   ]
  },
  {
   "cell_type": "code",
   "execution_count": 9,
   "metadata": {
    "_uuid": "fee1f2bae24bfa57c906ecd9f07f8ac496b6c5d2"
   },
   "outputs": [],
   "source": [
    "for dataset in (train,test) :\n",
    "    dataset['Title'] = dataset['Name'].str.extract('([A-Za-z]+)\\.',expand = False)\n",
    "    #dropping Name column\n",
    "    dataset.drop(columns = ['Name'],inplace = True)"
   ]
  },
  {
   "cell_type": "code",
   "execution_count": 10,
   "metadata": {
    "_uuid": "a23974bbd8152ba7020604e0bbea12d24ec73083"
   },
   "outputs": [
    {
     "data": {
      "text/plain": [
       "Title\n",
       "Capt          1\n",
       "Col           2\n",
       "Countess      1\n",
       "Don           1\n",
       "Dr            7\n",
       "Jonkheer      1\n",
       "Lady          1\n",
       "Major         2\n",
       "Master       40\n",
       "Miss        182\n",
       "Mlle          2\n",
       "Mme           1\n",
       "Mr          517\n",
       "Mrs         125\n",
       "Ms            1\n",
       "Rev           6\n",
       "Sir           1\n",
       "Name: Title, dtype: int64"
      ]
     },
     "execution_count": 10,
     "metadata": {},
     "output_type": "execute_result"
    }
   ],
   "source": [
    "train['Title'].groupby(by = train['Title']).count()"
   ]
  },
  {
   "cell_type": "code",
   "execution_count": 11,
   "metadata": {
    "_uuid": "be776c259cf134db9afc210daad94c4f85cae9cd"
   },
   "outputs": [
    {
     "data": {
      "text/plain": [
       "Title\n",
       "Col         2\n",
       "Dona        1\n",
       "Dr          1\n",
       "Master     21\n",
       "Miss       78\n",
       "Mr        240\n",
       "Mrs        72\n",
       "Ms          1\n",
       "Rev         2\n",
       "Name: Title, dtype: int64"
      ]
     },
     "execution_count": 11,
     "metadata": {},
     "output_type": "execute_result"
    }
   ],
   "source": [
    "test['Title'].groupby(by = test['Title']).count()"
   ]
  },
  {
   "cell_type": "code",
   "execution_count": 12,
   "metadata": {
    "_uuid": "9197a3a99a2178d358ec67f84a7caf2d2ef863b8"
   },
   "outputs": [],
   "source": [
    "#aggregating titles\n",
    "Title_Dict = {\n",
    "                    \"Capt\":       \"Officer\",\n",
    "                    \"Col\":        \"Officer\",\n",
    "                    \"Major\":      \"Officer\",\n",
    "                    \"Jonkheer\":   \"Royalty\",\n",
    "                    \"Don\":        \"Royalty\",\n",
    "                    \"Sir\" :       \"Royalty\",\n",
    "                    \"Dr\":         \"Officer\",\n",
    "                    \"Rev\":        \"Officer\",\n",
    "                    \"Countess\": \"Royalty\",\n",
    "                    \"Dona\":       \"Royalty\",\n",
    "                    \"Mme\":        \"Mrs\",\n",
    "                    \"Mlle\":       \"Miss\",\n",
    "                    \"Ms\":         \"Mrs\",\n",
    "                    \"Mr\" :        \"Mr\",\n",
    "                    \"Mrs\" :       \"Mrs\",\n",
    "                    \"Miss\" :      \"Miss\",\n",
    "                    \"Master\" :    \"Master\",\n",
    "                    \"Lady\" :      \"Royalty\"\n",
    "\n",
    "                    }\n",
    "train['Title'] = train['Title'].map(Title_Dict)\n",
    "test['Title'] = test['Title'].map(Title_Dict)"
   ]
  },
  {
   "cell_type": "markdown",
   "metadata": {
    "_uuid": "201fd263972e3d3385bcf2799dcabba63992d2ef"
   },
   "source": [
    "**Age**\n",
    "\n",
    "* Filling in the missing values of Age by the mean values of their respective Title\n",
    "* Then creating Age bins"
   ]
  },
  {
   "cell_type": "code",
   "execution_count": 13,
   "metadata": {
    "_uuid": "2786a17e85750be5602cf13f03376f9ebb4c181b"
   },
   "outputs": [
    {
     "data": {
      "text/plain": [
       "{'Master': 4, 'Miss': 21, 'Mr': 32, 'Mrs': 35, 'Officer': 46, 'Royalty': 41}"
      ]
     },
     "execution_count": 13,
     "metadata": {},
     "output_type": "execute_result"
    }
   ],
   "source": [
    "Age_dict = train.groupby(by = 'Title')['Age'].mean().astype(int).to_dict()\n",
    "Age_dict"
   ]
  },
  {
   "cell_type": "code",
   "execution_count": 14,
   "metadata": {
    "_uuid": "5faf2aee4b49ff1fe53e20003a077bf2b2911c59"
   },
   "outputs": [],
   "source": [
    "#filling the missing values\n",
    "for dataset in (train,test):\n",
    "    nan_idx = dataset.loc[dataset['Age'].isnull()].index\n",
    "    dataset.loc[nan_idx,'Age'] = dataset.loc[nan_idx,'Title'].map(Age_dict)"
   ]
  },
  {
   "cell_type": "code",
   "execution_count": 15,
   "metadata": {
    "_uuid": "0ed846b6624b20a42d69cf357c21236e77f4d5c6"
   },
   "outputs": [
    {
     "data": {
      "text/plain": [
       "0    (20.0, 26.0]\n",
       "1    (32.0, 38.0]\n",
       "2    (20.0, 26.0]\n",
       "3    (32.0, 38.0]\n",
       "4    (32.0, 38.0]\n",
       "Name: Age, dtype: category\n",
       "Categories (5, interval[float64]): [(0.419, 20.0] < (20.0, 26.0] < (26.0, 32.0] < (32.0, 38.0] < (38.0, 80.0]]"
      ]
     },
     "execution_count": 15,
     "metadata": {},
     "output_type": "execute_result"
    }
   ],
   "source": [
    "#Creating Age bins\n",
    "#Taking a look at the categories\n",
    "#quantile based discretization\n",
    "pd.qcut(train['Age'],q = 5).head()"
   ]
  },
  {
   "cell_type": "code",
   "execution_count": 16,
   "metadata": {
    "_uuid": "bf5c714acfbe5d92366f77c62869a00d6a2d8b95"
   },
   "outputs": [],
   "source": [
    "#Let's create bins based on the above categories\n",
    "bins = [0,20,26,32,38,80]\n",
    "train['Age'] = pd.cut(train['Age'],bins = bins,\n",
    "                      labels = ['Age_{}'.format(str(x)) for x in np.arange(1,6,1)])\n",
    "test['Age'] = pd.cut(test['Age'],bins = bins,\n",
    "                    labels = ['Age_{}'.format(str(x)) for x in np.arange(1,6,1)])"
   ]
  },
  {
   "cell_type": "markdown",
   "metadata": {
    "_uuid": "0f2751c7d4ebf4334d7fc2468323962cb0cf1bdb"
   },
   "source": [
    "**SibSp and Parch**\n",
    "\n",
    "Let's extract new features from SibSp and Parch and drop these two features."
   ]
  },
  {
   "cell_type": "code",
   "execution_count": 17,
   "metadata": {
    "_uuid": "8bed18453e6cb10fcc51628aed9d5824246ed977"
   },
   "outputs": [],
   "source": [
    "for dataset in (train,test):\n",
    "    #Creating a feature called the Family size\n",
    "    dataset['FamilySize'] = dataset['SibSp'] + dataset['Parch'] + 1\n",
    "    # Create new feature IsAlone from FamilySize\n",
    "    dataset['IsAlone'] = (dataset['FamilySize'] == 1) * 1\n",
    "\n",
    "train.drop(columns = ['SibSp','Parch'],inplace = True)\n",
    "test.drop(columns = ['SibSp','Parch'],inplace = True)\n"
   ]
  },
  {
   "cell_type": "markdown",
   "metadata": {
    "_uuid": "f14c92a25739b9b9248e4d3cbac8472e58a0db6e"
   },
   "source": [
    "**Ticket**"
   ]
  },
  {
   "cell_type": "code",
   "execution_count": 18,
   "metadata": {
    "_uuid": "af83cc287cbc126bbbe3bd5e5c8ef6c28a280842"
   },
   "outputs": [],
   "source": [
    "#dropping ticket feature as ticket number doesn't help in predicting survival\n",
    "train.drop(columns = ['Ticket'],inplace = True)\n",
    "test.drop(columns = ['Ticket'],inplace = True)"
   ]
  },
  {
   "cell_type": "markdown",
   "metadata": {
    "_uuid": "a61a2dc1bae75a85ceab6bf05e8aa7277eebd971"
   },
   "source": [
    "**Fare**\n",
    "\n",
    "* Filling a missing value of Fare in the test set by the mean value of the respective Pclass\n",
    "* Creating Fare bins"
   ]
  },
  {
   "cell_type": "code",
   "execution_count": 19,
   "metadata": {
    "_uuid": "563c3c1c0fda243509daa576ea3282d877971f91"
   },
   "outputs": [
    {
     "data": {
      "text/html": [
       "<div>\n",
       "<style scoped>\n",
       "    .dataframe tbody tr th:only-of-type {\n",
       "        vertical-align: middle;\n",
       "    }\n",
       "\n",
       "    .dataframe tbody tr th {\n",
       "        vertical-align: top;\n",
       "    }\n",
       "\n",
       "    .dataframe thead th {\n",
       "        text-align: right;\n",
       "    }\n",
       "</style>\n",
       "<table border=\"1\" class=\"dataframe\">\n",
       "  <thead>\n",
       "    <tr style=\"text-align: right;\">\n",
       "      <th></th>\n",
       "      <th>Pclass</th>\n",
       "      <th>Sex</th>\n",
       "      <th>Age</th>\n",
       "      <th>Fare</th>\n",
       "      <th>Cabin</th>\n",
       "      <th>Embarked</th>\n",
       "      <th>Title</th>\n",
       "      <th>FamilySize</th>\n",
       "      <th>IsAlone</th>\n",
       "    </tr>\n",
       "  </thead>\n",
       "  <tbody>\n",
       "    <tr>\n",
       "      <th>152</th>\n",
       "      <td>3</td>\n",
       "      <td>male</td>\n",
       "      <td>Age_5</td>\n",
       "      <td>NaN</td>\n",
       "      <td>NaN</td>\n",
       "      <td>S</td>\n",
       "      <td>Mr</td>\n",
       "      <td>1</td>\n",
       "      <td>1</td>\n",
       "    </tr>\n",
       "  </tbody>\n",
       "</table>\n",
       "</div>"
      ],
      "text/plain": [
       "    Pclass   Sex    Age  Fare Cabin Embarked Title  FamilySize  IsAlone\n",
       "152      3  male  Age_5   NaN   NaN        S    Mr           1        1"
      ]
     },
     "execution_count": 19,
     "metadata": {},
     "output_type": "execute_result"
    }
   ],
   "source": [
    "test.loc[test['Fare'].isnull()]"
   ]
  },
  {
   "cell_type": "code",
   "execution_count": 20,
   "metadata": {
    "_uuid": "e9e9e51da480a79c0dd03c6b5f3330b5fc1de708"
   },
   "outputs": [],
   "source": [
    "test['Fare'].fillna(test.loc[test['Pclass'] == '3','Fare'].mean(),inplace = True)"
   ]
  },
  {
   "cell_type": "code",
   "execution_count": 21,
   "metadata": {
    "_uuid": "c560f55756cb6701a82a538011ecd71207dd02db"
   },
   "outputs": [
    {
     "data": {
      "text/plain": [
       "0     (-0.001, 7.91]\n",
       "1    (31.0, 512.329]\n",
       "2     (7.91, 14.454]\n",
       "3    (31.0, 512.329]\n",
       "4     (7.91, 14.454]\n",
       "Name: Fare, dtype: category\n",
       "Categories (4, interval[float64]): [(-0.001, 7.91] < (7.91, 14.454] < (14.454, 31.0] < (31.0, 512.329]]"
      ]
     },
     "execution_count": 21,
     "metadata": {},
     "output_type": "execute_result"
    }
   ],
   "source": [
    "#Creating fare bins\n",
    "#Quantile cut\n",
    "pd.qcut(train['Fare'],q = 4).head()"
   ]
  },
  {
   "cell_type": "code",
   "execution_count": 22,
   "metadata": {
    "_uuid": "d07f328dbd885fd445f580a424d1a1a9c372050f"
   },
   "outputs": [],
   "source": [
    "#Creating fare bins based on the above categories\n",
    "fare_bins = [-0.001,7.91,14.454,31,513]\n",
    "train['Fare'] = pd.cut(train['Fare'],bins = fare_bins,\n",
    "                       labels = ['Fare_{}'.format(str(x)) for x in np.arange(1,5,1)])\n",
    "test['Fare'] = pd.cut(test['Fare'],bins = fare_bins,\n",
    "                     labels = ['Fare_{}'.format(str(x)) for x in np.arange(1,5,1)])"
   ]
  },
  {
   "cell_type": "markdown",
   "metadata": {
    "_uuid": "08b7cb5b9280d177fa5a9d950d10cc740af7e115"
   },
   "source": [
    "**Cabin**\n",
    "\n",
    "* Filling the missing values of Cabin with 'U' - Unknown\n",
    "* Then extracting the first letter in the Cabin number which might be helpful in predicting the survival."
   ]
  },
  {
   "cell_type": "code",
   "execution_count": 23,
   "metadata": {
    "_uuid": "2d21e85da4335964af326998b5ef922bf2bffb2b"
   },
   "outputs": [],
   "source": [
    "for dataset in (train,test):\n",
    "    dataset['Cabin'].fillna('U',inplace = True)\n",
    "    dataset['Cabin'] = dataset['Cabin'].apply(lambda x : x[0])"
   ]
  },
  {
   "cell_type": "markdown",
   "metadata": {
    "_uuid": "cc95d00b4b213a062fd4ceaf1121b4eca151792b"
   },
   "source": [
    "**Embarked**\n",
    "\n",
    "Filling the missing values of the Embarked column with the mode of that column"
   ]
  },
  {
   "cell_type": "code",
   "execution_count": 24,
   "metadata": {
    "_uuid": "b68d6ec3b9e86084e264e585d31eded6dfd7308b"
   },
   "outputs": [],
   "source": [
    "train['Embarked'].fillna(train['Embarked'].mode()[0],inplace = True)"
   ]
  },
  {
   "cell_type": "code",
   "execution_count": 25,
   "metadata": {
    "_uuid": "e2ba0f7c678e5f2c5dd646d2118c664a5d646e5e"
   },
   "outputs": [
    {
     "name": "stdout",
     "output_type": "stream",
     "text": [
      "<class 'pandas.core.frame.DataFrame'>\n",
      "RangeIndex: 418 entries, 0 to 417\n",
      "Data columns (total 9 columns):\n",
      "Pclass        418 non-null object\n",
      "Sex           418 non-null object\n",
      "Age           418 non-null category\n",
      "Fare          418 non-null category\n",
      "Cabin         418 non-null object\n",
      "Embarked      418 non-null object\n",
      "Title         418 non-null object\n",
      "FamilySize    418 non-null int64\n",
      "IsAlone       418 non-null int64\n",
      "dtypes: category(2), int64(2), object(5)\n",
      "memory usage: 24.1+ KB\n"
     ]
    }
   ],
   "source": [
    "test.info()"
   ]
  },
  {
   "cell_type": "code",
   "execution_count": 26,
   "metadata": {
    "_uuid": "2c5d30a812d0cf4c6f3dd181df5e9ccf43147b90"
   },
   "outputs": [
    {
     "name": "stdout",
     "output_type": "stream",
     "text": [
      "<class 'pandas.core.frame.DataFrame'>\n",
      "RangeIndex: 891 entries, 0 to 890\n",
      "Data columns (total 10 columns):\n",
      "Survived      891 non-null int64\n",
      "Pclass        891 non-null object\n",
      "Sex           891 non-null object\n",
      "Age           891 non-null category\n",
      "Fare          891 non-null category\n",
      "Cabin         891 non-null object\n",
      "Embarked      891 non-null object\n",
      "Title         891 non-null object\n",
      "FamilySize    891 non-null int64\n",
      "IsAlone       891 non-null int64\n",
      "dtypes: category(2), int64(3), object(5)\n",
      "memory usage: 57.9+ KB\n"
     ]
    }
   ],
   "source": [
    "train.info()"
   ]
  },
  {
   "cell_type": "code",
   "execution_count": 27,
   "metadata": {
    "_uuid": "76fc5a76652a7834bc306640cff101d44623003e"
   },
   "outputs": [],
   "source": [
    "train = pd.get_dummies(train)\n",
    "test = pd.get_dummies(test)"
   ]
  },
  {
   "cell_type": "code",
   "execution_count": 28,
   "metadata": {
    "_uuid": "74a18efb53666b3eadc6b399df9c1155e19866ec"
   },
   "outputs": [],
   "source": [
    "#separating out target variables and predictor variables\n",
    "y_train = train['Survived']\n",
    "#dropping Cabin_T column also as it is not present in the test dataset\n",
    "train.drop(columns = ['Survived','Cabin_T'],inplace = True)"
   ]
  },
  {
   "cell_type": "markdown",
   "metadata": {
    "_uuid": "a149abf89701b7a40aeeb1e84dc65b8b9bb1395f"
   },
   "source": [
    "Now we have our dataset ready for training. Let's train different classifiers on the training set and analyze the results."
   ]
  },
  {
   "cell_type": "markdown",
   "metadata": {
    "_uuid": "348ad8acb1e0e207c139eb9bd2bd0589e748fc27"
   },
   "source": [
    "# **Modelling**"
   ]
  },
  {
   "cell_type": "markdown",
   "metadata": {
    "_uuid": "2a42627c76e2829ec003a239dc82c42c1a350510"
   },
   "source": [
    "# Logistic Regression"
   ]
  },
  {
   "cell_type": "code",
   "execution_count": 29,
   "metadata": {
    "_uuid": "8c47f22aa9f89da15e5edcaf76651b339162a2e4"
   },
   "outputs": [],
   "source": [
    "#defining our error metric\n",
    "from sklearn.model_selection import StratifiedKFold,cross_val_score\n",
    "def accuracy(model):\n",
    "    skfold = StratifiedKFold(n_splits = 5,shuffle = True,random_state = 66)\n",
    "    acc = cross_val_score(model,X = train,y = y_train,scoring = 'accuracy',cv = skfold)\n",
    "    return acc.mean()"
   ]
  },
  {
   "cell_type": "code",
   "execution_count": 30,
   "metadata": {
    "_uuid": "7081981a5819b78fc86fe1554bbced5dcf7bbfe2"
   },
   "outputs": [],
   "source": [
    "#finding C in LogisticRegression model\n",
    "#from sklearn.linear_model import LogisticRegression\n",
    "#for c in [0.001,0.01,0.1,1,10,100]:\n",
    "    #lr = LogisticRegression(penalty='l2',solver = 'lbfgs',C = c,random_state = 6,max_iter = 500)\n",
    "    #print(\"{} : {:.4f}\".format(c,accuracy(lr)))"
   ]
  },
  {
   "cell_type": "code",
   "execution_count": 31,
   "metadata": {
    "_uuid": "60f6f433190007c05e0dcacc978485df9eb038c8"
   },
   "outputs": [
    {
     "name": "stdout",
     "output_type": "stream",
     "text": [
      "Logistic Regression score : 0.8283\n"
     ]
    }
   ],
   "source": [
    "from sklearn.linear_model import LogisticRegression\n",
    "lr = LogisticRegression(penalty='l2',solver = 'lbfgs',C = 0.1,random_state = 6,max_iter = 100)\n",
    "print(\"Logistic Regression score : {:.4f}\".format(accuracy(lr)))\n",
    "lr.fit(train,y_train)\n",
    "pred_lr = lr.predict(test)\n",
    "submission_lr = pd.DataFrame({\"PassengerId\" : test_raw[\"PassengerId\"], \"Survived\" : pred_lr })\n",
    "submission_lr.to_csv(\"logistic_regression\",index = False)"
   ]
  },
  {
   "cell_type": "markdown",
   "metadata": {
    "_uuid": "91ace6ad51d72eb2583d33e81c0d75d31e47a3cb"
   },
   "source": [
    "The above submission scored **0.77033** on public leaderboard"
   ]
  },
  {
   "cell_type": "markdown",
   "metadata": {
    "_uuid": "20da53fac30d22390c385c847f7f1b6ef094adc3"
   },
   "source": [
    "# Ensembling"
   ]
  },
  {
   "cell_type": "markdown",
   "metadata": {
    "_uuid": "4b7408ea84b0458ac9aa816a42f3c473a7d5500a"
   },
   "source": [
    "# Random Forest Classifier"
   ]
  },
  {
   "cell_type": "code",
   "execution_count": 32,
   "metadata": {
    "_uuid": "ec0ecba5f1f24e19a73fda6b6a90d09e4f29a6c2"
   },
   "outputs": [],
   "source": [
    "#cross validation to tune the parameters of random forest\n",
    "#from sklearn.model_selection import GridSearchCV\n",
    "#from sklearn.ensemble import RandomForestClassifier\n",
    "#parameter_grid = {'n_estimators' : [10,50,100,200,500],\n",
    "#                 'criterion' : ['entropy','gini'],\n",
    "#                 'max_features' : ['log2', 'sqrt','auto'],\n",
    "#                  'min_samples_leaf': [1,5,8],\n",
    "#                 'max_depth': [50,80,90,100,110],\n",
    " #                 'min_samples_split':[2,3,5]\n",
    "  #               }\n",
    "#skfold = StratifiedKFold(n_splits = 5,shuffle = True,random_state = 66)\n",
    "#grid_search = GridSearchCV(RandomForestClassifier(random_state = 666),param_grid = parameter_grid,\n",
    " #                          scoring = 'accuracy',n_jobs = -1,iid = False,cv = skfold,verbose = 2 )\n",
    "#grid_search.fit(train,y_train)\n",
    "#print(grid_search.best_params_)\n",
    "#print(grid_search.best_score_)"
   ]
  },
  {
   "cell_type": "code",
   "execution_count": 33,
   "metadata": {
    "_uuid": "2464252456584b284c08a6ec4258d7a3a5181ebc"
   },
   "outputs": [
    {
     "name": "stdout",
     "output_type": "stream",
     "text": [
      "Random Forest score : 0.8350\n"
     ]
    }
   ],
   "source": [
    "#Let's fit a random forest model\n",
    "from sklearn.ensemble import RandomForestClassifier\n",
    "rf = RandomForestClassifier(n_estimators = 50,max_depth = 90,criterion = 'entropy',\n",
    "                            max_features = 'log2',min_samples_leaf = 5,random_state = 55,\n",
    "                            min_samples_split = 2) #parameters estimated using cross validation\n",
    "print(\"Random Forest score : {:.4f}\".format(accuracy(rf)))\n",
    "rf.fit(train,y_train)\n",
    "pred_rf = rf.predict(test)\n",
    "submission_rf = pd.DataFrame({\"PassengerId\" : test_raw[\"PassengerId\"], \"Survived\" : pred_rf })\n",
    "submission_rf.to_csv(\"random_forest\",index = False)"
   ]
  },
  {
   "cell_type": "code",
   "execution_count": 34,
   "metadata": {
    "_uuid": "f7af7f81874bc9f6a60d3fa634b8cdc3dad63e68"
   },
   "outputs": [],
   "source": [
    "#cross validation\n",
    "# from sklearn.model_selection import GridSearchCV\n",
    "# import xgboost as xgb\n",
    "# param_grid = {#'n_estimators' : [10,100,200,300,400,500,700,1000],\n",
    "#               #'max_depth' : [2,3,4,5],\n",
    "#                # 'min_child_weight' : [1,2,3,4]\n",
    "#                 #'gamma' : [0.0,0.1,0.2,0.3,0.4,0.5],\n",
    "#                 #'colsample_bytree' : [0.6,0.7,0.8,0.9,1.0],\n",
    "#                 #'subsample' : [0.6,0.7,0.8,0.9,1.0],\n",
    "#                 #'reg_alpha' : [0.01,0.03,0.1,0.3,1,3,10,30],\n",
    "#                 #'reg_lambda' :[0.01,0.03,0.1,0.3,1,3,10,30]\n",
    "#              } \n",
    "# skfold = StratifiedKFold(n_splits = 5,shuffle = True,random_state = 66)\n",
    "# XGB = xgb.XGBClassifier(learning_rate = 0.05,n_jobs = -1,max_depth = 2,n_estimators = 200,\n",
    "#                        subsample = 0.9,colsample_bytree = 0.9,min_child_weight = 1,\n",
    "#                         gamma = 0.0,reg_alpha = 0.01,reg_lambda = 1,random_state = 66)\n",
    "# grid_search = GridSearchCV(XGB,param_grid = param_grid,scoring = 'accuracy',\n",
    "#                            n_jobs = -1,iid = False,cv = skfold,verbose = 2)\n",
    "# grid_search.fit(train,y_train)\n",
    "# print(grid_search.best_params_)\n",
    "# print(grid_search.best_score_)\n",
    "\n"
   ]
  },
  {
   "cell_type": "code",
   "execution_count": 35,
   "metadata": {
    "_uuid": "bafce1ea8895b941be959b011fecbddcb538f932"
   },
   "outputs": [
    {
     "name": "stdout",
     "output_type": "stream",
     "text": [
      "XGB score : 0.8429\n"
     ]
    }
   ],
   "source": [
    "import xgboost as xgb\n",
    "XGB = xgb.XGBClassifier(learning_rate = 0.05,n_jobs = -1,max_depth = 2,n_estimators = 200,\n",
    "                       subsample = 0.9,colsample_bytree = 0.9,min_child_weight = 1,\n",
    "                        gamma = 0.0,reg_alpha = 0.01,reg_lambda = 1,\n",
    "                        random_state = 66)   #parameters found by cross validation\n",
    "print(\"XGB score : {:.4f}\".format(accuracy(XGB)))\n",
    "XGB.fit(train,y_train)\n",
    "pred_xgb = XGB.predict(test)\n",
    "submission_xgb = pd.DataFrame({\"PassengerId\" : test_raw[\"PassengerId\"], \"Survived\" : pred_xgb })\n",
    "submission_xgb.to_csv(\"XGBoost\",index = False)"
   ]
  },
  {
   "cell_type": "code",
   "execution_count": 36,
   "metadata": {
    "_uuid": "62cf948c233c183337360fdcb3fcf56b19b2bcb4"
   },
   "outputs": [],
   "source": []
  }
 ],
 "metadata": {
  "kernelspec": {
   "display_name": "Python 3",
   "language": "python",
   "name": "python3"
  },
  "language_info": {
   "codemirror_mode": {
    "name": "ipython",
    "version": 3
   },
   "file_extension": ".py",
   "mimetype": "text/x-python",
   "name": "python",
   "nbconvert_exporter": "python",
   "pygments_lexer": "ipython3",
   "version": "3.6.6"
  }
 },
 "nbformat": 4,
 "nbformat_minor": 1
}
